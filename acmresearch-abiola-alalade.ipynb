{
 "cells": [
  {
   "cell_type": "code",
   "execution_count": 1,
   "id": "414aedde",
   "metadata": {
    "_cell_guid": "b1076dfc-b9ad-4769-8c92-a6c4dae69d19",
    "_uuid": "8f2839f25d086af736a60e9eeb907d3b93b6e0e5",
    "execution": {
     "iopub.execute_input": "2022-09-06T03:42:13.912367Z",
     "iopub.status.busy": "2022-09-06T03:42:13.911785Z",
     "iopub.status.idle": "2022-09-06T03:42:15.920839Z",
     "shell.execute_reply": "2022-09-06T03:42:15.919153Z"
    },
    "papermill": {
     "duration": 2.016314,
     "end_time": "2022-09-06T03:42:15.922916",
     "exception": false,
     "start_time": "2022-09-06T03:42:13.906602",
     "status": "completed"
    },
    "tags": []
   },
   "outputs": [
    {
     "name": "stderr",
     "output_type": "stream",
     "text": [
      "/opt/conda/lib/python3.7/site-packages/ipykernel_launcher.py:15: FutureWarning: The default value of regex will change from True to False in a future version. In addition, single character regular expressions will *not* be treated as literal strings when regex=True.\n",
      "  from ipykernel import kernelapp as app\n"
     ]
    }
   ],
   "source": [
    "import pandas as pd\n",
    "import regex as re\n",
    "from sklearn.model_selection import train_test_split\n",
    "from sklearn.metrics import mean_absolute_error\n",
    "from xgboost import XGBRegressor\n",
    "from sklearn.ensemble import RandomForestClassifier\n",
    "import matplotlib.pyplot as plt\n",
    "\n",
    "# Reading in the data\n",
    "X = pd.read_csv('../input/carsforsale/cars_raw.csv')\n",
    "X_test_full = pd.read_csv('../input/carsforsale/cars_raw.csv')\n",
    "\n",
    "#Removing unnecessary character's and converting the Price coloumn to float\n",
    "X[\"Price\"] = X[\"Price\"].str.replace(',', '')\n",
    "X[\"Price\"] = X[\"Price\"].str.replace('$', '')\n",
    "X[\"Price\"] = X[\"Price\"].apply(lambda x: re.sub(r\"\\D\",\"\",x))\n",
    "X[\"Price\"] = pd.to_numeric(X[\"Price\"])\n",
    "\n",
    "# Drop data\n",
    "X.dropna(axis=0, subset=['Price'], inplace=True)\n",
    "\n",
    "target = X.Price\n",
    "\n",
    "#Dropping columns with missing values\n",
    "cols_with_missing = [col for col in X.columns if X[col].isnull().any()]                                  \n",
    "candidate_train_predictors = X.drop(['Year','Price'] + cols_with_missing, axis=1)\n",
    "candidate_test_predictors = X_test_full.drop(['Year'] + cols_with_missing, axis=1)\n",
    "\n",
    "#Selecting coloumns with a low cardinality \n",
    "low_cardinality_cols = [cname for cname in candidate_train_predictors.columns if \n",
    "                                candidate_train_predictors[cname].nunique() < 10 and\n",
    "                                candidate_train_predictors[cname].dtype == \"object\"]\n",
    "numeric_cols = [cname for cname in candidate_train_predictors.columns if \n",
    "                                candidate_train_predictors[cname].dtype in ['int64', 'float64']]\n",
    "my_cols = low_cardinality_cols + numeric_cols\n",
    "train_predictors = candidate_train_predictors[my_cols]\n",
    "test_predictors = candidate_test_predictors[my_cols]"
   ]
  },
  {
   "cell_type": "code",
   "execution_count": 2,
   "id": "c26a6281",
   "metadata": {
    "execution": {
     "iopub.execute_input": "2022-09-06T03:42:15.930331Z",
     "iopub.status.busy": "2022-09-06T03:42:15.929955Z",
     "iopub.status.idle": "2022-09-06T03:42:15.959012Z",
     "shell.execute_reply": "2022-09-06T03:42:15.957074Z"
    },
    "papermill": {
     "duration": 0.03571,
     "end_time": "2022-09-06T03:42:15.961708",
     "exception": false,
     "start_time": "2022-09-06T03:42:15.925998",
     "status": "completed"
    },
    "tags": []
   },
   "outputs": [
    {
     "name": "stdout",
     "output_type": "stream",
     "text": [
      "<class 'pandas.core.frame.DataFrame'>\n",
      "Int64Index: 9374 entries, 0 to 9378\n",
      "Data columns (total 32 columns):\n",
      " #   Column                 Non-Null Count  Dtype  \n",
      "---  ------                 --------------  -----  \n",
      " 0   Year                   9374 non-null   int64  \n",
      " 1   Make                   9374 non-null   object \n",
      " 2   Model                  9374 non-null   object \n",
      " 3   Used/New               9374 non-null   object \n",
      " 4   Price                  9374 non-null   float64\n",
      " 5   ConsumerRating         9374 non-null   float64\n",
      " 6   ConsumerReviews        9374 non-null   int64  \n",
      " 7   SellerType             9374 non-null   object \n",
      " 8   SellerName             9374 non-null   object \n",
      " 9   SellerRating           9374 non-null   float64\n",
      " 10  SellerReviews          9374 non-null   int64  \n",
      " 11  StreetName             9374 non-null   object \n",
      " 12  State                  9374 non-null   object \n",
      " 13  Zipcode                9374 non-null   object \n",
      " 14  DealType               9152 non-null   object \n",
      " 15  ComfortRating          9374 non-null   float64\n",
      " 16  InteriorDesignRating   9374 non-null   float64\n",
      " 17  PerformanceRating      9374 non-null   float64\n",
      " 18  ValueForMoneyRating    9374 non-null   float64\n",
      " 19  ExteriorStylingRating  9374 non-null   float64\n",
      " 20  ReliabilityRating      9374 non-null   float64\n",
      " 21  ExteriorColor          9374 non-null   object \n",
      " 22  InteriorColor          9374 non-null   object \n",
      " 23  Drivetrain             9374 non-null   object \n",
      " 24  MinMPG                 9374 non-null   int64  \n",
      " 25  MaxMPG                 9374 non-null   int64  \n",
      " 26  FuelType               9374 non-null   object \n",
      " 27  Transmission           9374 non-null   object \n",
      " 28  Engine                 9374 non-null   object \n",
      " 29  VIN                    9374 non-null   object \n",
      " 30  Stock#                 9374 non-null   object \n",
      " 31  Mileage                9374 non-null   int64  \n",
      "dtypes: float64(9), int64(6), object(17)\n",
      "memory usage: 2.4+ MB\n",
      "None\n",
      "0\n"
     ]
    }
   ],
   "source": [
    "#Checking the dtypes\n",
    "train_predictors.dtypes\n",
    "#Checking information on the dataset\n",
    "print(X.info())\n",
    "print(target.isnull().sum())"
   ]
  },
  {
   "cell_type": "code",
   "execution_count": 3,
   "id": "f78cb682",
   "metadata": {
    "execution": {
     "iopub.execute_input": "2022-09-06T03:42:15.968414Z",
     "iopub.status.busy": "2022-09-06T03:42:15.968073Z",
     "iopub.status.idle": "2022-09-06T03:42:15.981191Z",
     "shell.execute_reply": "2022-09-06T03:42:15.980149Z"
    },
    "papermill": {
     "duration": 0.018922,
     "end_time": "2022-09-06T03:42:15.983297",
     "exception": false,
     "start_time": "2022-09-06T03:42:15.964375",
     "status": "completed"
    },
    "tags": []
   },
   "outputs": [],
   "source": [
    "#One-hot encoding\n",
    "one_hot_encoded_training_predictors = pd.get_dummies(train_predictors)"
   ]
  },
  {
   "cell_type": "code",
   "execution_count": 4,
   "id": "67ba1752",
   "metadata": {
    "execution": {
     "iopub.execute_input": "2022-09-06T03:42:15.990491Z",
     "iopub.status.busy": "2022-09-06T03:42:15.988963Z",
     "iopub.status.idle": "2022-09-06T03:42:16.064080Z",
     "shell.execute_reply": "2022-09-06T03:42:16.062797Z"
    },
    "papermill": {
     "duration": 0.081263,
     "end_time": "2022-09-06T03:42:16.066900",
     "exception": false,
     "start_time": "2022-09-06T03:42:15.985637",
     "status": "completed"
    },
    "tags": []
   },
   "outputs": [],
   "source": [
    "# Remove rows with missing target, separate target from predictors\n",
    "X.dropna(axis=0, subset=['Price'], inplace=True)\n",
    "y = X.Price \n",
    "X.drop(['Price'], axis=1, inplace=True)\n",
    "\n",
    "#Validating and training data\n",
    "X_train_full, X_valid_full, y_train, y_valid = train_test_split(X, y, train_size=0.8, test_size=0.2,\n",
    "                                                                random_state=0)\n",
    "\n",
    "#Selecting categorical columns with low cardinality\n",
    "low_cardinality_cols = [cname for cname in X_train_full.columns if X_train_full[cname].nunique() < 10 and \n",
    "                        X_train_full[cname].dtype == \"object\"]\n",
    "\n",
    "# Selecting numeric columns\n",
    "numeric_cols = [cname for cname in X_train_full.columns if X_train_full[cname].dtype in ['int64', 'float64']]\n",
    "\n",
    "# Keeping only the selected columns\n",
    "my_cols = low_cardinality_cols + numeric_cols\n",
    "X_train = X_train_full[my_cols].copy()\n",
    "X_valid = X_valid_full[my_cols].copy()\n",
    "X_test = X_test_full[my_cols].copy()\n",
    "\n",
    "#One Hot Encoding\n",
    "X_train = pd.get_dummies(X_train)\n",
    "X_valid = pd.get_dummies(X_valid)\n",
    "X_test = pd.get_dummies(X_test)\n",
    "X_train, X_valid = X_train.align(X_valid, join='left', axis=1)\n",
    "X_train, X_test = X_train.align(X_test, join='left', axis=1)"
   ]
  },
  {
   "cell_type": "code",
   "execution_count": 5,
   "id": "9e556dac",
   "metadata": {
    "execution": {
     "iopub.execute_input": "2022-09-06T03:42:16.073083Z",
     "iopub.status.busy": "2022-09-06T03:42:16.072714Z",
     "iopub.status.idle": "2022-09-06T03:42:24.330684Z",
     "shell.execute_reply": "2022-09-06T03:42:24.328871Z"
    },
    "papermill": {
     "duration": 8.264607,
     "end_time": "2022-09-06T03:42:24.333923",
     "exception": false,
     "start_time": "2022-09-06T03:42:16.069316",
     "status": "completed"
    },
    "tags": []
   },
   "outputs": [
    {
     "name": "stdout",
     "output_type": "stream",
     "text": [
      "Price Predictions for Cars:  [30841.01  26794.191 34073.105 ... 31042.754 41522.605 35578.875]\n",
      "Mean Absolute Error: 3335.7001911458333\n"
     ]
    }
   ],
   "source": [
    "# Defining the model\n",
    "model = XGBRegressor(n_estimators=1000, learning_rate=0.05)\n",
    "\n",
    "# Fiting the model\n",
    "model.fit(X_train, y_train)\n",
    "\n",
    "#Getting the Predictions\n",
    "predictions = model.predict(X_valid)\n",
    "print(\"Price Predictions for Cars: \", predictions )\n",
    "\n",
    "#Calculating Mean Absolute Error\n",
    "mae = mean_absolute_error(predictions, y_valid)\n",
    "print(\"Mean Absolute Error:\" , mae) "
   ]
  },
  {
   "cell_type": "code",
   "execution_count": 6,
   "id": "36e8cce6",
   "metadata": {
    "execution": {
     "iopub.execute_input": "2022-09-06T03:42:24.340831Z",
     "iopub.status.busy": "2022-09-06T03:42:24.340483Z",
     "iopub.status.idle": "2022-09-06T03:42:24.606470Z",
     "shell.execute_reply": "2022-09-06T03:42:24.605085Z"
    },
    "papermill": {
     "duration": 0.271553,
     "end_time": "2022-09-06T03:42:24.608443",
     "exception": false,
     "start_time": "2022-09-06T03:42:24.336890",
     "status": "completed"
    },
    "tags": []
   },
   "outputs": [
    {
     "data": {
      "image/png": "[encoded data removed]",
      "text/plain": [
       "<Figure size 864x720 with 1 Axes>"
      ]
     },
     "metadata": {
      "needs_background": "light"
     },
     "output_type": "display_data"
    }
   ],
   "source": [
    "#Read Data\n",
    "df = pd.read_csv('../input/carsforsale/cars_raw.csv')\n",
    "\n",
    "#Set Dimensions\n",
    "dimensions = plt.figure()\n",
    "dimensions.set_figwidth(12)\n",
    "dimensions.set_figheight(10)\n",
    "\n",
    "#Selected 10 random car make's\n",
    "Data = {'Make': ['Toyota','Ford','RAM','Honda','Lexus','Mercedes-Benz','Dodge','Subaru','Acura','BMW'],\n",
    "        'Price': [39998,49985,41860,28500,49000,18985,46773,25500,37000,30995]\n",
    "       }\n",
    "df = pd.DataFrame(Data,columns=['Make','Price'])\n",
    "\n",
    "#Setting colors\n",
    "colors = ['red','grey','aliceblue','teal','darkorange','deepskyblue',\n",
    "          'darkslategray','goldenrod','lightcoral','lightsalmon']\n",
    "#Building Bar Graph\n",
    "plt.bar(df['Make'], df['Price'], color= colors)\n",
    "plt.title('Make VS. Prices', fontsize=14)\n",
    "plt.xlabel('Make', fontsize=12)\n",
    "plt.ylabel('Prices', fontsize=12)  \n",
    "plt.grid(True)\n",
    "plt.show()"
   ]
  }
 ],
 "metadata": {
  "kernelspec": {
   "display_name": "Python 3",
   "language": "python",
   "name": "python3"
  },
  "language_info": {
   "codemirror_mode": {
    "name": "ipython",
    "version": 3
   },
   "file_extension": ".py",
   "mimetype": "text/x-python",
   "name": "python",
   "nbconvert_exporter": "python",
   "pygments_lexer": "ipython3",
   "version": "3.7.12"
  },
  "papermill": {
   "default_parameters": {},
   "duration": 21.83031,
   "end_time": "2022-09-06T03:42:25.432768",
   "environment_variables": {},
   "exception": null,
   "input_path": "__notebook__.ipynb",
   "output_path": "__notebook__.ipynb",
   "parameters": {},
   "start_time": "2022-09-06T03:42:03.602458",
   "version": "2.3.4"
  }
 },
 "nbformat": 4,
 "nbformat_minor": 5
}
